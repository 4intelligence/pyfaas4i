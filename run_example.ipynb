{
 "cells": [
  {
   "cell_type": "markdown",
   "metadata": {},
   "source": [
    "# FaaS API\n",
    "\n",
    "## Python examples"
   ]
  },
  {
   "cell_type": "code",
   "execution_count": null,
   "metadata": {},
   "outputs": [],
   "source": [
    "# Run this code if you are in a new environment (xlrd is required to read .xlsx files)\n",
    "!pip install openpyxl"
   ]
  },
  {
   "cell_type": "code",
   "execution_count": null,
   "metadata": {},
   "outputs": [],
   "source": [
    "# The first step to is to login into the application. It will only be required once every 30 days\n",
    "from pyfaas4i.faas import login\n",
    "login()"
   ]
  },
  {
   "cell_type": "code",
   "execution_count": 2,
   "metadata": {},
   "outputs": [],
   "source": [
    "# The only required library is pandas although datetime is recommended\n",
    "import pandas as pd"
   ]
  },
  {
   "cell_type": "code",
   "execution_count": 3,
   "metadata": {},
   "outputs": [],
   "source": [
    "# the faas_api function can be imported from faas.py file\n",
    "from pyfaas4i.faas import run_models"
   ]
  },
  {
   "cell_type": "markdown",
   "metadata": {},
   "source": [
    "## Example 1: Predicting a single time series (Y)"
   ]
  },
  {
   "cell_type": "code",
   "execution_count": 4,
   "metadata": {},
   "outputs": [],
   "source": [
    "# ------ Define properties of the series -----------------\n",
    "project_name = \"teste_email\""
   ]
  },
  {
   "cell_type": "code",
   "execution_count": 5,
   "metadata": {},
   "outputs": [],
   "source": [
    "# ------ Load datasets -----------------------------------\n",
    "\n",
    "df_example = pd.read_excel(\"./inputs/dataset_1.xlsx\")\n",
    "\n",
    "# ------ Declare the date variable and its format --------\n",
    "\n",
    "date_variable = 'data_tidy'\n",
    "date_format = '%Y-%m-%d'\n",
    "\n",
    "# ------ Dataframes must be passed in a dictionary\n",
    "# ------ The key must be named after the variable of interest\n",
    "data_list = {'fs_pim': df_example}"
   ]
  },
  {
   "cell_type": "code",
   "execution_count": 6,
   "metadata": {},
   "outputs": [],
   "source": [
    "# ------ Define FaaS parameters ---------------------------\n",
    "model_spec = {\n",
    "    'n_steps': 3,\n",
    "    'n_windows': 6\n",
    "}"
   ]
  },
  {
   "cell_type": "code",
   "execution_count": 7,
   "metadata": {},
   "outputs": [
    {
     "name": "stdout",
     "output_type": "stream",
     "text": [
      "<Response [200]>\n",
      "{'status': 200, 'status_title': 'Success'}\n",
      "Request successfully received and validated!\n",
      "HTTP: created: Request successfully received!\n",
      "Results will soon be available in your Projects module.\n"
     ]
    }
   ],
   "source": [
    "# ------ Call the function ---------------------------\n",
    "run_models(data_list.copy(), date_variable, date_format, model_spec.copy(), project_name)"
   ]
  },
  {
   "cell_type": "markdown",
   "metadata": {},
   "source": [
    "## Example 2: Predicting multiple time series (Ys)"
   ]
  },
  {
   "cell_type": "code",
   "execution_count": 9,
   "metadata": {},
   "outputs": [],
   "source": [
    "# ------ Define properties of the series -----------------\n",
    "project_name = \"project_example_2\""
   ]
  },
  {
   "cell_type": "code",
   "execution_count": null,
   "metadata": {},
   "outputs": [],
   "source": [
    "# ------ Load datasets -----------------------------------\n",
    "\n",
    "df_example1 = pd.read_excel(\"./inputs/dataset_1.xlsx\")\n",
    "df_example2 = pd.read_excel(\"./inputs/dataset_2.xlsx\")\n",
    "df_example3 = pd.read_excel(\"./inputs/dataset_3.xlsx\")\n",
    "\n",
    "\n",
    "# ------ Declare the date variable and its format --------\n",
    "\n",
    "date_variable = 'data_tidy'\n",
    "date_format = '%Y-%m-%d'\n",
    "\n",
    "# ------ Dataframes must be passed in a dictionary\n",
    "# ------ The keys must be named after the variable of interest\n",
    "data_list = {'fs_pim': df_example1,\n",
    "             'fs_pmc': df_example2,\n",
    "             'fs_pib': df_example3}"
   ]
  },
  {
   "cell_type": "code",
   "execution_count": null,
   "metadata": {},
   "outputs": [],
   "source": [
    "# ------ Define FaaS parameters ---------------------------\n",
    "model_spec = {\n",
    "    'n_steps': 3,\n",
    "    'n_windows': 6,\n",
    "    }"
   ]
  },
  {
   "cell_type": "code",
   "execution_count": 2,
   "metadata": {},
   "outputs": [
    {
     "name": "stdout",
     "output_type": "stream",
     "text": [
      "HTTP 200:\n",
      "Request successfully received!\n",
      "Results will soon be available in your Projects module\n"
     ]
    }
   ],
   "source": [
    "# ------ Call the function ---------------------------\n",
    "run_models(data_list.copy(), date_variable, date_format, model_spec.copy(), project_name)"
   ]
  }
 ],
 "metadata": {
  "interpreter": {
   "hash": "4095aa9c811db5e30354477f0c6eb1f2dbb031e1b1b9c7f21c95712d37c8df93"
  },
  "kernelspec": {
   "display_name": "Python 3.7.9 64-bit ('dlenv': conda)",
   "language": "python",
   "name": "python3"
  },
  "language_info": {
   "codemirror_mode": {
    "name": "ipython",
    "version": 3
   },
   "file_extension": ".py",
   "mimetype": "text/x-python",
   "name": "python",
   "nbconvert_exporter": "python",
   "pygments_lexer": "ipython3",
   "version": "3.7.9"
  },
  "metadata": {
   "interpreter": {
    "hash": "1cf3630168b7ddc9f99bc7a6cab38fdce7a1aac8026b13908d5b1119ed587a08"
   }
  },
  "orig_nbformat": 2
 },
 "nbformat": 4,
 "nbformat_minor": 2
}
